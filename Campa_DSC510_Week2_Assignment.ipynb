{
 "cells": [
  {
   "cell_type": "code",
   "execution_count": 24,
   "metadata": {
    "collapsed": true,
    "pycharm": {
     "is_executing": false
    }
   },
   "outputs": [
    {
     "name": "stdout",
     "text": [
      "Welcome To GC Fiber Optic Company\n",
      "dfadfdf\n",
      "1000 linear feet needed\nPrice $.87 per linear foot\n$870.00 is your total cost of installation\n"
     ],
     "output_type": "stream"
    }
   ],
   "source": [
    "'''\n",
    "File:   Campa_DSC_510_Week2_Assignment\n",
    "Name:   Gregg Campa\n",
    "Date:   9/2/2019\n",
    "Course:   DSC 510\n",
    "Assignment: Week2\n",
    "Desc:    Calculate the installation cost of fiber\n",
    "         optic cable by multiplying the total cost as the number of feet times $0.87\n",
    "Usage:   Print a receipt showing the company name and the total cost of installation\n",
    "'''\n",
    "\n",
    "print('Welcome To GC Fiber Optic Company')\n",
    "\n",
    "co_name =input('Please enter your Company Name')\n",
    "print(co_name)\n",
    "no_of_ft_needed = int(input('Please enter the number of linear feet of fiber optic cable to you need') )\n",
    "print(no_of_ft_needed, 'linear feet needed')\n",
    "cost = no_of_ft_needed * .87 # This calculates the total cost of installation\n",
    "print('Price $.87 per linear foot')\n",
    "print('${:.2f}'.format(cost), 'is your total cost of installation')  # This formats the cost in dollars\n"
   ]
  }
 ],
 "metadata": {
  "language_info": {
   "codemirror_mode": {
    "name": "ipython",
    "version": 2
   },
   "file_extension": ".py",
   "mimetype": "text/x-python",
   "name": "python",
   "nbconvert_exporter": "python",
   "pygments_lexer": "ipython2",
   "version": "2.7.6"
  },
  "kernelspec": {
   "name": "python3",
   "language": "python",
   "display_name": "Python 3"
  },
  "pycharm": {
   "stem_cell": {
    "cell_type": "raw",
    "source": [],
    "metadata": {
     "collapsed": false
    }
   }
  }
 },
 "nbformat": 4,
 "nbformat_minor": 0
}
