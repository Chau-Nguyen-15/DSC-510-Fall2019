{
 "cells": [
  {
   "cell_type": "code",
   "execution_count": 21,
   "metadata": {
    "collapsed": true,
    "pycharm": {
     "is_executing": false
    }
   },
   "outputs": [
    {
     "name": "stdout",
     "text": [
      "[4.0, 23.0, 34.0, 34.23]\nThe maximum temperature is:  34.23\nThe minimum temperature is:  4.0\nThe total number of temperatures entered are  4\n"
     ],
     "output_type": "stream"
    }
   ],
   "source": [
    "#File: Assignment 6\n",
    "#Name: April Meyer\n",
    "#Assignment 6\n",
    "#Date: 10.02.2019\n",
    "\"\"\"A program which creates a list of temperatures based upon user input. \n",
    "It will determine the number of temperatures in the program, the largest temperature, \n",
    "and the smallest temperature.\n",
    "\"\"\"\n",
    "\n",
    "temp_list = []\n",
    "userTemp_input = input('Please enter a temperature: \\n' + 'Type \"Done\" when you have entered all temperatures')\n",
    "while userTemp_input:\n",
    "    userTemp_input = input('Please enter a temperature: \\n' + 'Type \"Done\" when you have entered all temperatures')\n",
    "    if userTemp_input.lower() == 'done': #check for sentinel value\n",
    "        break\n",
    "    try:\n",
    "        t2 = temp_list.append(float(userTemp_input)) #verifies float number\n",
    "    except ValueError:\n",
    "        userTemp_input = input('Invalid input. Please enter a numeric number.')#reprompts user\n",
    "    #print(temp_list) #used for testing\n",
    "print(temp_list)\n",
    "print('The maximum temperature is: ', max(temp_list), 'degrees') #returns max temperature\n",
    "print('The minimum temperature is: ', min(temp_list), 'degrees') #returns min temperature\n",
    "print('The total number of temperatures entered are ', len(temp_list)) #returns count of numbers"
   ]
  }
 ],
 "metadata": {
  "kernelspec": {
   "display_name": "Python 3",
   "language": "python",
   "name": "python3"
  },
  "language_info": {
   "codemirror_mode": {
    "name": "ipython",
    "version": 2
   },
   "file_extension": ".py",
   "mimetype": "text/x-python",
   "name": "python",
   "nbconvert_exporter": "python",
   "pygments_lexer": "ipython2",
   "version": "2.7.6"
  },
  "pycharm": {
   "stem_cell": {
    "cell_type": "raw",
    "source": [],
    "metadata": {
     "collapsed": false
    }
   }
  }
 },
 "nbformat": 4,
 "nbformat_minor": 0
}