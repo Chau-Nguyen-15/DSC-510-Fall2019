{
 "cells": [
  {
   "cell_type": "code",
   "execution_count": 12,
   "metadata": {
    "collapsed": true,
    "pycharm": {
     "is_executing": false
    }
   },
   "outputs": [
    {
     "name": "stdout",
     "text": [
      "9\n",
      "All Done!\n"
     ],
     "output_type": "stream"
    }
   ],
   "source": [
    "#File: Assignment 5\n",
    "#Name: April Meyer\n",
    "#Assignment 5\n",
    "#Date: 9.26.2019\n",
    "'''Desc: This program will greet the user, ask for the\n",
    "amount of fiber optic cable they would like to order. \n",
    "It will then calculate the total based on the amount ordered using a New function'''\n",
    "\n",
    "#Defines a function named performCalculation which takes one parameter. \n",
    "#The parameter will be the operation being performed (+, -, *, /).\n",
    "def performCalculation (x):\n",
    "    userNum_input = int(input('What is your first number?'))\n",
    "    userNum_input2 = int(input('What is your second number?'))\n",
    "    if x in ('+','add','addition'):\n",
    "        print(userNum_input + userNum_input2)\n",
    "    elif x in ('-','minus','subtraction'):\n",
    "        print(userNum_input - userNum_input2)\n",
    "    elif x in ('*','multiply','multiplication'):\n",
    "            print(userNum_input * userNum_input2)\n",
    "    elif x in ('/','divide','division'):\n",
    "                print(userNum_input / userNum_input2)\n",
    "    \n",
    "#Define a function named calculateAverage which takes no parameters and prints the average\n",
    "def calculateAverage ():\n",
    "    userAvg_input = int(input('How many numbers would you like to average?'))\n",
    "    total = 0\n",
    "    for i in range(0, userAvg_input): # set up loop to run the amount from the user\n",
    "    \tnumber = int(input('Please enter a number: ')) # prompt user for number for total\n",
    "    \ttotal = total + number\n",
    "    print('Your average is ', total/userAvg_input) #prints average\n",
    "\n",
    "cal_set = ['+','add','addition','-','minus','subtraction','*','multiply','multiplication','/','divide','division']\n",
    "cal_set2 = ['+','add','addition','-','minus','subtraction','*','multiply','multiplication','/','divide','division', 'average']\n",
    "while True: #loop for user to do calculations & continues until they type none\n",
    "    userOp_input = input('What arithmetic operation would you like to perform? \\n'\n",
    "                     'Addition(+), Subtraction(-), Multiplication(*), Division(/), Average, or None')\n",
    "    userOp_input = userOp_input.lower() #converts to lower case\n",
    "    if userOp_input in cal_set:   #checks if it is in the first list \n",
    "        performCalculation (userOp_input)\n",
    "    if userOp_input == 'average': #checks the user input to see if it is average\n",
    "        calculateAverage()\n",
    "    if userOp_input == 'none': #breaks the loop if it is user_input is none\n",
    "        break\n",
    "    if userOp_input not in cal_set2 : #all other inputs will receive this message\n",
    "        print('Invalid Option. Please try again')\n",
    "print('All Done!')\n",
    "\n",
    "\n",
    "\n"
   ]
  }
 ],
 "metadata": {
  "kernelspec": {
   "display_name": "Python 3",
   "language": "python",
   "name": "python3"
  },
  "language_info": {
   "codemirror_mode": {
    "name": "ipython",
    "version": 2
   },
   "file_extension": ".py",
   "mimetype": "text/x-python",
   "name": "python",
   "nbconvert_exporter": "python",
   "pygments_lexer": "ipython2",
   "version": "2.7.6"
  },
  "pycharm": {
   "stem_cell": {
    "cell_type": "raw",
    "source": [],
    "metadata": {
     "collapsed": false
    }
   }
  }
 },
 "nbformat": 4,
 "nbformat_minor": 0
}