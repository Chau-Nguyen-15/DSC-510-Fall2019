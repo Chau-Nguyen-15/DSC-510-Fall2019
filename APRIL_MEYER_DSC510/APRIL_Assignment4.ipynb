{
 "cells": [
  {
   "cell_type": "code",
   "execution_count": 9,
   "outputs": [
    {
     "name": "stdout",
     "text": [
      "Your receipt is below: \n\n Amount of fiber optic cable: 550 feet \n Order Total: $ 275.0\n"
     ],
     "output_type": "stream"
    }
   ],
   "source": [
    "#File: Assignment 4\n",
    "#Name: April Meyer\n",
    "#Assignment 4\n",
    "#Date: 9.20.2019\n",
    "'''Desc: This program will greet the user, ask for the\n",
    "amount of fiber optic cable they would like to order. \n",
    "It will then calculate the total based on the amount ordered using a New function'''\n",
    "\n",
    "def bulk_order(fiber, cost): #new function with 2 parameters to calculate a bulk order\n",
    "    fiber = int(fiber)\n",
    "    if fiber <= 100:\n",
    "        cost = cost\n",
    "    elif fiber > 500:\n",
    "       cost = fiber*.50\n",
    "    elif fiber > 250:\n",
    "        cost = fiber*.70\n",
    "    elif fiber > 100:\n",
    "        cost = fiber*.80   \n",
    "    print('Your receipt is below: \\n\\n', \n",
    "          'Amount of fiber optic cable:', fiber, 'feet \\n',\n",
    "          'Order Total: $', cost)\n",
    "    \n",
    "company_name = input('Let\\'s get started. What company do you work for?') #gets company name   \n",
    "\n",
    "try:  #calculates the total based on the amount\n",
    "    ft_fib_cab = input('Thank you for choosing us! \\n '\n",
    "                   'How many feet of fiber optic cable would you like to order?') #gets amount needed\n",
    "    tot_price = int(ft_fib_cab)*.87\n",
    "    bulk_order(ft_fib_cab, tot_price)\n",
    "except ValueError: #handles an incorrect value and reprompts the user\n",
    "    try:\n",
    "        ft_fib_cab = input('Invalid Entry. Please try again. How many feet would you like to order?')\n",
    "        tot_price = int(ft_fib_cab)*.87     \n",
    "        bulk_order(ft_fib_cab, tot_price)\n",
    "    except: #lets the user know they entered the wrong value\n",
    "        print('Invalid Entry Again. Unable to process order.')\n",
    "\n",
    "\n"
   ],
   "metadata": {
    "collapsed": false,
    "pycharm": {
     "name": "#%%\n",
     "is_executing": false
    }
   }
  }
 ],
 "metadata": {
  "kernelspec": {
   "display_name": "Python 3",
   "language": "python",
   "name": "python3"
  },
  "language_info": {
   "codemirror_mode": {
    "name": "ipython",
    "version": 2
   },
   "file_extension": ".py",
   "mimetype": "text/x-python",
   "name": "python",
   "nbconvert_exporter": "python",
   "pygments_lexer": "ipython2",
   "version": "2.7.6"
  },
  "pycharm": {
   "stem_cell": {
    "cell_type": "raw",
    "source": [],
    "metadata": {
     "collapsed": false
    }
   }
  }
 },
 "nbformat": 4,
 "nbformat_minor": 0
}