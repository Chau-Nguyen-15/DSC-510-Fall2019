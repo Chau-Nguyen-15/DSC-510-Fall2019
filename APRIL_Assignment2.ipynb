{
 "cells": [
  {
   "cell_type": "code",
   "execution_count": 4,
   "metadata": {
    "collapsed": true,
    "pycharm": {
     "is_executing": false
    }
   },
   "outputs": [
    {
     "name": "stdout",
     "text": [
      "Welcome, I hope your day is going great!\n",
      "Thank you for you business. Your receipt is below: \n\n Company:  Discover \n Amount of fiber optic cable: 8 feet \n Order Total: $ 6.96\n"
     ],
     "output_type": "stream"
    }
   ],
   "source": [
    "#File:\n",
    "#Name: April Meyer\n",
    "#Assignment 1\n",
    "#Date: 8.29.2019\n",
    "'''Desc: This program will greet the user, ask for their company name, and the\n",
    "amount of fiber optic cable they would like to order. It will then calculate the\n",
    "total and provide a receipt.'''\n",
    "\n",
    "print('Welcome, I hope your day is going great!') #greeting\n",
    "company_name = input('Let\\'s get started. What company do you work for?') #gets company name\n",
    "ft_fib_cab = input('How many feet of fiber optic cable would you like to order?') #gets amount needed\n",
    "print('Thank you for you business. Your receipt is below: \\n\\n', \n",
    "      'Company: ',company_name, '\\n', \n",
    "        'Amount of fiber optic cable:', ft_fib_cab, 'feet \\n',\n",
    "                   'Order Total: $', int(ft_fib_cab)*.87) #receipt calculation & output\n"
   ]
  }
 ],
 "metadata": {
  "language_info": {
   "codemirror_mode": {
    "name": "ipython",
    "version": 2
   },
   "file_extension": ".py",
   "mimetype": "text/x-python",
   "name": "python",
   "nbconvert_exporter": "python",
   "pygments_lexer": "ipython2",
   "version": "2.7.6"
  },
  "kernelspec": {
   "name": "python3",
   "language": "python",
   "display_name": "Python 3"
  },
  "pycharm": {
   "stem_cell": {
    "cell_type": "raw",
    "source": [],
    "metadata": {
     "collapsed": false
    }
   }
  }
 },
 "nbformat": 4,
 "nbformat_minor": 0
}